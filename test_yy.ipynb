{
 "cells": [
  {
   "cell_type": "code",
   "execution_count": 1,
   "metadata": {},
   "outputs": [],
   "source": [
    "import yfinance as yf"
   ]
  },
  {
   "cell_type": "code",
   "execution_count": 2,
   "metadata": {},
   "outputs": [],
   "source": [
    "data = yf.Ticker('AAPL').info"
   ]
  },
  {
   "cell_type": "code",
   "execution_count": 3,
   "metadata": {},
   "outputs": [
    {
     "data": {
      "text/plain": [
       "{'zip': '95014',\n",
       " 'sector': 'Technology',\n",
       " 'fullTimeEmployees': 100000,\n",
       " 'longBusinessSummary': 'Apple Inc. designs, manufactures, and markets smartphones, personal computers, tablets, wearables, and accessories worldwide. It also sells various related services. In addition, the company offers iPhone, a line of smartphones; Mac, a line of personal computers; iPad, a line of multi-purpose tablets; AirPods Max, an over-ear wireless headphone; and wearables, home, and accessories comprising AirPods, Apple TV, Apple Watch, Beats products, HomePod, and iPod touch. Further, it provides AppleCare support services; cloud services store services; and operates various platforms, including the App Store that allow customers to discover and download applications and digital content, such as books, music, video, games, and podcasts. Additionally, the company offers various services, such as Apple Arcade, a game subscription service; Apple Music, which offers users a curated listening experience with on-demand radio stations; Apple News+, a subscription news and magazine service; Apple TV+, which offers exclusive original content; Apple Card, a co-branded credit card; and Apple Pay, a cashless payment service, as well as licenses its intellectual property. The company serves consumers, and small and mid-sized businesses; and the education, enterprise, and government markets. It distributes third-party applications for its products through the App Store. The company also sells its products through its retail and online stores, and direct sales force; and third-party cellular network carriers, wholesalers, retailers, and resellers. Apple Inc. was incorporated in 1977 and is headquartered in Cupertino, California.',\n",
       " 'city': 'Cupertino',\n",
       " 'phone': '408 996 1010',\n",
       " 'state': 'CA',\n",
       " 'country': 'United States',\n",
       " 'companyOfficers': [],\n",
       " 'website': 'https://www.apple.com',\n",
       " 'maxAge': 1,\n",
       " 'address1': 'One Apple Park Way',\n",
       " 'industry': 'Consumer Electronics',\n",
       " 'ebitdaMargins': 0.33890998,\n",
       " 'profitMargins': 0.26579002,\n",
       " 'grossMargins': 0.43019,\n",
       " 'operatingCashflow': 112241000448,\n",
       " 'revenueGrowth': 0.112,\n",
       " 'operatingMargins': 0.309,\n",
       " 'ebitda': 128217997312,\n",
       " 'targetLowPrice': 128.01,\n",
       " 'recommendationKey': 'buy',\n",
       " 'grossProfits': 152836000000,\n",
       " 'freeCashflow': 80188252160,\n",
       " 'targetMedianPrice': 182,\n",
       " 'currentPrice': 170.33,\n",
       " 'earningsGrowth': 0.25,\n",
       " 'currentRatio': 1.038,\n",
       " 'returnOnAssets': 0.19875,\n",
       " 'numberOfAnalystOpinions': 42,\n",
       " 'targetMeanPrice': 180.94,\n",
       " 'debtToEquity': 170.714,\n",
       " 'returnOnEquity': 1.45567,\n",
       " 'targetHighPrice': 210,\n",
       " 'totalCash': 63913000960,\n",
       " 'totalDebt': 122797998080,\n",
       " 'totalRevenue': 378323009536,\n",
       " 'totalCashPerShare': 3.911,\n",
       " 'financialCurrency': 'USD',\n",
       " 'revenuePerShare': 22.838,\n",
       " 'quickRatio': 0.875,\n",
       " 'recommendationMean': 1.8,\n",
       " 'exchange': 'NMS',\n",
       " 'shortName': 'Apple Inc.',\n",
       " 'longName': 'Apple Inc.',\n",
       " 'exchangeTimezoneName': 'America/New_York',\n",
       " 'exchangeTimezoneShortName': 'EST',\n",
       " 'isEsgPopulated': False,\n",
       " 'gmtOffSetMilliseconds': '-18000000',\n",
       " 'quoteType': 'EQUITY',\n",
       " 'symbol': 'AAPL',\n",
       " 'messageBoardId': 'finmb_24937',\n",
       " 'market': 'us_market',\n",
       " 'annualHoldingsTurnover': None,\n",
       " 'enterpriseToRevenue': 7.513,\n",
       " 'beta3Year': None,\n",
       " 'enterpriseToEbitda': 22.167,\n",
       " '52WeekChange': 0.2697928,\n",
       " 'morningStarRiskRating': None,\n",
       " 'forwardEps': 6.2,\n",
       " 'revenueQuarterlyGrowth': None,\n",
       " 'sharesOutstanding': 16334399488,\n",
       " 'fundInceptionDate': None,\n",
       " 'annualReportExpenseRatio': None,\n",
       " 'totalAssets': None,\n",
       " 'bookValue': 4.402,\n",
       " 'sharesShort': 90492581,\n",
       " 'sharesPercentSharesOut': 0.0055,\n",
       " 'fundFamily': None,\n",
       " 'lastFiscalYearEnd': 1632528000,\n",
       " 'heldPercentInstitutions': 0.59093,\n",
       " 'netIncomeToCommon': 100554997760,\n",
       " 'trailingEps': 6.015,\n",
       " 'lastDividendValue': 0.22,\n",
       " 'SandP52WeekChange': 0.17435467,\n",
       " 'priceToBook': 38.693775,\n",
       " 'heldPercentInsiders': 0.00121,\n",
       " 'nextFiscalYearEnd': 1695600000,\n",
       " 'yield': None,\n",
       " 'mostRecentQuarter': 1640390400,\n",
       " 'shortRatio': 0.94,\n",
       " 'sharesShortPreviousMonthDate': 1639526400,\n",
       " 'floatShares': 16324346740,\n",
       " 'beta': 1.202736,\n",
       " 'enterpriseValue': 2842222133248,\n",
       " 'priceHint': 2,\n",
       " 'threeYearAverageReturn': None,\n",
       " 'lastSplitDate': 1598832000,\n",
       " 'lastSplitFactor': '4:1',\n",
       " 'legalType': None,\n",
       " 'lastDividendDate': 1636070400,\n",
       " 'morningStarOverallRating': None,\n",
       " 'earningsQuarterlyGrowth': 0.204,\n",
       " 'priceToSalesTrailing12Months': 7.3541346,\n",
       " 'dateShortInterest': 1642118400,\n",
       " 'pegRatio': 1.93,\n",
       " 'ytdReturn': None,\n",
       " 'forwardPE': 27.472582,\n",
       " 'lastCapGain': None,\n",
       " 'shortPercentOfFloat': 0.0055,\n",
       " 'sharesShortPriorMonth': 113277024,\n",
       " 'impliedSharesOutstanding': None,\n",
       " 'category': None,\n",
       " 'fiveYearAverageReturn': None,\n",
       " 'previousClose': 159.22,\n",
       " 'regularMarketOpen': 165.71,\n",
       " 'twoHundredDayAverage': 148.1168,\n",
       " 'trailingAnnualDividendYield': 0.0054327347,\n",
       " 'payoutRatio': 0.1515,\n",
       " 'volume24Hr': None,\n",
       " 'regularMarketDayHigh': 170.35,\n",
       " 'navPrice': None,\n",
       " 'averageDailyVolume10Day': 116300610,\n",
       " 'regularMarketPreviousClose': 159.22,\n",
       " 'fiftyDayAverage': 169.5848,\n",
       " 'trailingAnnualDividendRate': 0.865,\n",
       " 'open': 165.71,\n",
       " 'toCurrency': None,\n",
       " 'averageVolume10days': 116300610,\n",
       " 'expireDate': None,\n",
       " 'algorithm': None,\n",
       " 'dividendRate': 0.88,\n",
       " 'exDividendDate': 1636070400,\n",
       " 'circulatingSupply': None,\n",
       " 'startDate': None,\n",
       " 'regularMarketDayLow': 162.8,\n",
       " 'currency': 'USD',\n",
       " 'trailingPE': 28.317541,\n",
       " 'regularMarketVolume': 179935660,\n",
       " 'lastMarket': None,\n",
       " 'maxSupply': None,\n",
       " 'openInterest': None,\n",
       " 'marketCap': 2782238343168,\n",
       " 'volumeAllCurrencies': None,\n",
       " 'strikePrice': None,\n",
       " 'averageVolume': 98747687,\n",
       " 'dayLow': 162.8,\n",
       " 'ask': 170.5,\n",
       " 'askSize': 1400,\n",
       " 'volume': 179935660,\n",
       " 'fiftyTwoWeekHigh': 182.94,\n",
       " 'fromCurrency': None,\n",
       " 'fiveYearAvgDividendYield': 1.17,\n",
       " 'fiftyTwoWeekLow': 116.21,\n",
       " 'bid': 170.6,\n",
       " 'tradeable': False,\n",
       " 'dividendYield': 0.0052,\n",
       " 'bidSize': 900,\n",
       " 'dayHigh': 170.35,\n",
       " 'regularMarketPrice': 170.33,\n",
       " 'preMarketPrice': None,\n",
       " 'logo_url': 'https://logo.clearbit.com/apple.com',\n",
       " 'trailingPegRatio': 3.3612}"
      ]
     },
     "execution_count": 3,
     "metadata": {},
     "output_type": "execute_result"
    }
   ],
   "source": [
    "data"
   ]
  },
  {
   "cell_type": "markdown",
   "metadata": {},
   "source": [
    "# sqlalchemy things for one to many relations"
   ]
  },
  {
   "cell_type": "code",
   "execution_count": 2,
   "metadata": {},
   "outputs": [],
   "source": [
    "from tables import Stocks, Industry, Sector\n",
    "from connect import connect_to_session\n",
    "# from add_update_stock import add_stock"
   ]
  },
  {
   "cell_type": "code",
   "execution_count": 8,
   "metadata": {},
   "outputs": [],
   "source": [
    "session = connect_to_session()"
   ]
  },
  {
   "cell_type": "code",
   "execution_count": 16,
   "metadata": {},
   "outputs": [
    {
     "name": "stdout",
     "output_type": "stream",
     "text": [
      "{'_sa_instance_state': <sqlalchemy.orm.state.InstanceState object at 0x000001B2CE256BE0>, 'id': 1, 'industry_name': 'Consumer Electronics'}\n",
      "{'_sa_instance_state': <sqlalchemy.orm.state.InstanceState object at 0x000001B2CE208850>, 'id': 2, 'industry_name': 'Test'}\n"
     ]
    }
   ],
   "source": [
    "for row in session.query(Industry).all():\n",
    "    print(row.__dict__)"
   ]
  },
  {
   "cell_type": "code",
   "execution_count": 17,
   "metadata": {},
   "outputs": [],
   "source": [
    "for row in session.query(Sector).all():\n",
    "    print(row.__dict__)"
   ]
  },
  {
   "cell_type": "code",
   "execution_count": 13,
   "metadata": {},
   "outputs": [],
   "source": [
    "new = Industry(industry_name='Test')"
   ]
  },
  {
   "cell_type": "code",
   "execution_count": 15,
   "metadata": {},
   "outputs": [],
   "source": [
    "session.add(new)\n",
    "session.commit()"
   ]
  },
  {
   "cell_type": "code",
   "execution_count": 19,
   "metadata": {},
   "outputs": [
    {
     "data": {
      "text/plain": [
       "2"
      ]
     },
     "execution_count": 19,
     "metadata": {},
     "output_type": "execute_result"
    }
   ],
   "source": [
    "new.id"
   ]
  },
  {
   "cell_type": "code",
   "execution_count": 20,
   "metadata": {},
   "outputs": [],
   "source": [
    "import datetime"
   ]
  },
  {
   "cell_type": "code",
   "execution_count": 21,
   "metadata": {},
   "outputs": [
    {
     "data": {
      "text/plain": [
       "datetime.datetime(2022, 2, 4, 16, 19, 55, 576073)"
      ]
     },
     "execution_count": 21,
     "metadata": {},
     "output_type": "execute_result"
    }
   ],
   "source": [
    "datetime.datetime.now()"
   ]
  },
  {
   "cell_type": "code",
   "execution_count": 25,
   "metadata": {},
   "outputs": [
    {
     "data": {
      "text/plain": [
       "<sqlalchemy.orm.attributes.InstrumentedAttribute at 0x1b2b2c23860>"
      ]
     },
     "execution_count": 25,
     "metadata": {},
     "output_type": "execute_result"
    }
   ],
   "source": [
    "Stocks.datetime_updated"
   ]
  },
  {
   "cell_type": "code",
   "execution_count": 4,
   "metadata": {},
   "outputs": [],
   "source": [
    "from sqlalchemy.sql import select"
   ]
  },
  {
   "cell_type": "code",
   "execution_count": 6,
   "metadata": {},
   "outputs": [],
   "source": [
    "from tables import StockInfo, Stocks"
   ]
  },
  {
   "cell_type": "code",
   "execution_count": 9,
   "metadata": {},
   "outputs": [],
   "source": [
    "s = select(Stocks.symbol, Stocks.is_held).where()\n",
    "result = session.execute(s)"
   ]
  },
  {
   "cell_type": "code",
   "execution_count": 10,
   "metadata": {},
   "outputs": [
    {
     "data": {
      "text/plain": [
       "[('AAPL', True)]"
      ]
     },
     "execution_count": 10,
     "metadata": {},
     "output_type": "execute_result"
    }
   ],
   "source": [
    "result.fetchall()"
   ]
  },
  {
   "cell_type": "markdown",
   "metadata": {},
   "source": [
    "# Testing stockstats w/ yf"
   ]
  },
  {
   "cell_type": "code",
   "execution_count": 1,
   "metadata": {},
   "outputs": [],
   "source": [
    "import yfinance as yf\n",
    "from stockstats import StockDataFrame"
   ]
  },
  {
   "cell_type": "code",
   "execution_count": 4,
   "metadata": {},
   "outputs": [],
   "source": [
    "data = yf.Ticker('AAPL').history()"
   ]
  },
  {
   "cell_type": "code",
   "execution_count": 5,
   "metadata": {},
   "outputs": [
    {
     "data": {
      "text/html": [
       "<div>\n",
       "<style scoped>\n",
       "    .dataframe tbody tr th:only-of-type {\n",
       "        vertical-align: middle;\n",
       "    }\n",
       "\n",
       "    .dataframe tbody tr th {\n",
       "        vertical-align: top;\n",
       "    }\n",
       "\n",
       "    .dataframe thead th {\n",
       "        text-align: right;\n",
       "    }\n",
       "</style>\n",
       "<table border=\"1\" class=\"dataframe\">\n",
       "  <thead>\n",
       "    <tr style=\"text-align: right;\">\n",
       "      <th></th>\n",
       "      <th>Open</th>\n",
       "      <th>High</th>\n",
       "      <th>Low</th>\n",
       "      <th>Close</th>\n",
       "      <th>Volume</th>\n",
       "      <th>Dividends</th>\n",
       "      <th>Stock Splits</th>\n",
       "    </tr>\n",
       "    <tr>\n",
       "      <th>Date</th>\n",
       "      <th></th>\n",
       "      <th></th>\n",
       "      <th></th>\n",
       "      <th></th>\n",
       "      <th></th>\n",
       "      <th></th>\n",
       "      <th></th>\n",
       "    </tr>\n",
       "  </thead>\n",
       "  <tbody>\n",
       "    <tr>\n",
       "      <th>2022-01-12</th>\n",
       "      <td>175.895886</td>\n",
       "      <td>176.954535</td>\n",
       "      <td>174.597553</td>\n",
       "      <td>175.306641</td>\n",
       "      <td>74805200</td>\n",
       "      <td>0.0</td>\n",
       "      <td>0</td>\n",
       "    </tr>\n",
       "    <tr>\n",
       "      <th>2022-01-13</th>\n",
       "      <td>175.556330</td>\n",
       "      <td>176.395257</td>\n",
       "      <td>171.571401</td>\n",
       "      <td>171.970901</td>\n",
       "      <td>84505800</td>\n",
       "      <td>0.0</td>\n",
       "      <td>0</td>\n",
       "    </tr>\n",
       "    <tr>\n",
       "      <th>2022-01-14</th>\n",
       "      <td>171.121983</td>\n",
       "      <td>173.558881</td>\n",
       "      <td>170.872301</td>\n",
       "      <td>172.849792</td>\n",
       "      <td>80355000</td>\n",
       "      <td>0.0</td>\n",
       "      <td>0</td>\n",
       "    </tr>\n",
       "    <tr>\n",
       "      <th>2022-01-18</th>\n",
       "      <td>171.291754</td>\n",
       "      <td>172.320442</td>\n",
       "      <td>169.194435</td>\n",
       "      <td>169.583939</td>\n",
       "      <td>90956700</td>\n",
       "      <td>0.0</td>\n",
       "      <td>0</td>\n",
       "    </tr>\n",
       "    <tr>\n",
       "      <th>2022-01-19</th>\n",
       "      <td>169.783686</td>\n",
       "      <td>170.862313</td>\n",
       "      <td>165.728854</td>\n",
       "      <td>166.018478</td>\n",
       "      <td>94815000</td>\n",
       "      <td>0.0</td>\n",
       "      <td>0</td>\n",
       "    </tr>\n",
       "  </tbody>\n",
       "</table>\n",
       "</div>"
      ],
      "text/plain": [
       "                  Open        High         Low       Close    Volume  \\\n",
       "Date                                                                   \n",
       "2022-01-12  175.895886  176.954535  174.597553  175.306641  74805200   \n",
       "2022-01-13  175.556330  176.395257  171.571401  171.970901  84505800   \n",
       "2022-01-14  171.121983  173.558881  170.872301  172.849792  80355000   \n",
       "2022-01-18  171.291754  172.320442  169.194435  169.583939  90956700   \n",
       "2022-01-19  169.783686  170.862313  165.728854  166.018478  94815000   \n",
       "\n",
       "            Dividends  Stock Splits  \n",
       "Date                                 \n",
       "2022-01-12        0.0             0  \n",
       "2022-01-13        0.0             0  \n",
       "2022-01-14        0.0             0  \n",
       "2022-01-18        0.0             0  \n",
       "2022-01-19        0.0             0  "
      ]
     },
     "execution_count": 5,
     "metadata": {},
     "output_type": "execute_result"
    }
   ],
   "source": [
    "data.head()"
   ]
  },
  {
   "cell_type": "code",
   "execution_count": 17,
   "metadata": {},
   "outputs": [],
   "source": [
    "df = StockDataFrame(data)"
   ]
  },
  {
   "cell_type": "code",
   "execution_count": 20,
   "metadata": {},
   "outputs": [],
   "source": [
    "df.rename(columns={'Open': 'open', 'High': 'high', 'Low': 'low', 'Close': 'close', 'Volume': 'volume'}, inplace=True)"
   ]
  },
  {
   "cell_type": "code",
   "execution_count": 22,
   "metadata": {},
   "outputs": [],
   "source": [
    "df.init_all()"
   ]
  },
  {
   "cell_type": "code",
   "execution_count": 23,
   "metadata": {},
   "outputs": [
    {
     "name": "stdout",
     "output_type": "stream",
     "text": [
      "<class 'stockstats.StockDataFrame'>\n",
      "DatetimeIndex: 22 entries, 2022-01-12 to 2022-02-11\n",
      "Data columns (total 73 columns):\n",
      " #   Column         Non-Null Count  Dtype  \n",
      "---  ------         --------------  -----  \n",
      " 0   open           22 non-null     float64\n",
      " 1   high           22 non-null     float64\n",
      " 2   low            22 non-null     float64\n",
      " 3   close          22 non-null     float64\n",
      " 4   volume         22 non-null     int64  \n",
      " 5   Dividends      22 non-null     float64\n",
      " 6   Stock Splits   22 non-null     int64  \n",
      " 7   change         22 non-null     float64\n",
      " 8   rs_14          21 non-null     float64\n",
      " 9   rsi            21 non-null     float64\n",
      " 10  rsi_14         21 non-null     float64\n",
      " 11  stochrsi       20 non-null     float64\n",
      " 12  rate           21 non-null     float64\n",
      " 13  middle         22 non-null     float64\n",
      " 14  tp             22 non-null     float64\n",
      " 15  boll           22 non-null     float64\n",
      " 16  boll_ub        21 non-null     float64\n",
      " 17  boll_lb        21 non-null     float64\n",
      " 18  macd           22 non-null     float64\n",
      " 19  macds          22 non-null     float64\n",
      " 20  macdh          22 non-null     float64\n",
      " 21  ppo            22 non-null     float64\n",
      " 22  ppos           22 non-null     float64\n",
      " 23  ppoh           22 non-null     float64\n",
      " 24  rsv_9          22 non-null     float64\n",
      " 25  kdjk_9         22 non-null     float64\n",
      " 26  kdjk           22 non-null     float64\n",
      " 27  kdjd_9         22 non-null     float64\n",
      " 28  kdjd           22 non-null     float64\n",
      " 29  kdjj_9         22 non-null     float64\n",
      " 30  kdjj           22 non-null     float64\n",
      " 31  cr             22 non-null     float64\n",
      " 32  cr-ma1         22 non-null     float64\n",
      " 33  cr-ma2         22 non-null     float64\n",
      " 34  cr-ma3         22 non-null     float64\n",
      " 35  cci            21 non-null     float64\n",
      " 36  tr             22 non-null     float64\n",
      " 37  atr            22 non-null     float64\n",
      " 38  high_delta     21 non-null     float64\n",
      " 39  um             21 non-null     float64\n",
      " 40  low_delta      21 non-null     float64\n",
      " 41  dm             21 non-null     float64\n",
      " 42  pdm            22 non-null     float64\n",
      " 43  pdm_14_ema     22 non-null     float64\n",
      " 44  pdm_14         22 non-null     float64\n",
      " 45  atr_14         22 non-null     float64\n",
      " 46  pdi_14         22 non-null     float64\n",
      " 47  pdi            22 non-null     float64\n",
      " 48  mdm            22 non-null     float64\n",
      " 49  mdm_14_ema     22 non-null     float64\n",
      " 50  mdm_14         22 non-null     float64\n",
      " 51  mdi_14         22 non-null     float64\n",
      " 52  mdi            22 non-null     float64\n",
      " 53  dx_14          21 non-null     float64\n",
      " 54  dx             21 non-null     float64\n",
      " 55  adx            21 non-null     float64\n",
      " 56  adxr           21 non-null     float64\n",
      " 57  trix           22 non-null     float64\n",
      " 58  tema           22 non-null     float64\n",
      " 59  vr             22 non-null     float64\n",
      " 60  close_10_sma   22 non-null     float64\n",
      " 61  close_50_sma   22 non-null     float64\n",
      " 62  dma            22 non-null     float64\n",
      " 63  vwma           22 non-null     float64\n",
      " 64  chop           22 non-null     float64\n",
      " 65  log-ret        22 non-null     float64\n",
      " 66  mfi            22 non-null     float64\n",
      " 67  wt1            21 non-null     float64\n",
      " 68  wt2            21 non-null     float64\n",
      " 69  wr             22 non-null     float64\n",
      " 70  supertrend_ub  22 non-null     float64\n",
      " 71  supertrend_lb  22 non-null     float64\n",
      " 72  supertrend     22 non-null     float64\n",
      "dtypes: float64(71), int64(2)\n",
      "memory usage: 12.7 KB\n"
     ]
    }
   ],
   "source": [
    "df.info()"
   ]
  },
  {
   "cell_type": "code",
   "execution_count": 24,
   "metadata": {},
   "outputs": [
    {
     "data": {
      "text/plain": [
       "Date\n",
       "2022-01-12          NaN\n",
       "2022-01-13     0.000000\n",
       "2022-01-14    22.102886\n",
       "2022-01-18    11.728811\n",
       "2022-01-19     7.558060\n",
       "2022-01-20     6.380778\n",
       "2022-01-21     5.296112\n",
       "2022-01-24     4.954869\n",
       "2022-01-25     4.265520\n",
       "2022-01-26     4.234485\n",
       "2022-01-27     4.068043\n",
       "2022-01-28    52.049126\n",
       "2022-01-31    60.558392\n",
       "2022-02-01    60.119471\n",
       "2022-02-02    62.251310\n",
       "2022-02-03    54.721597\n",
       "2022-02-04    54.026549\n",
       "2022-02-07    52.228184\n",
       "2022-02-08    58.662960\n",
       "2022-02-09    61.235091\n",
       "2022-02-10    51.360973\n",
       "2022-02-11    44.846278\n",
       "Name: rsi, dtype: float64"
      ]
     },
     "execution_count": 24,
     "metadata": {},
     "output_type": "execute_result"
    }
   ],
   "source": [
    "df.rsi"
   ]
  },
  {
   "cell_type": "code",
   "execution_count": 1,
   "metadata": {},
   "outputs": [],
   "source": [
    "import yfinance as yf"
   ]
  },
  {
   "cell_type": "code",
   "execution_count": 2,
   "metadata": {},
   "outputs": [],
   "source": [
    "stock = yf.Ticker('AAPL').info"
   ]
  },
  {
   "cell_type": "code",
   "execution_count": 6,
   "metadata": {},
   "outputs": [],
   "source": [
    "stock2 = yf.Ticker('2387').info"
   ]
  },
  {
   "cell_type": "code",
   "execution_count": 7,
   "metadata": {},
   "outputs": [
    {
     "data": {
      "text/plain": [
       "{'regularMarketPrice': None, 'preMarketPrice': None, 'logo_url': ''}"
      ]
     },
     "execution_count": 7,
     "metadata": {},
     "output_type": "execute_result"
    }
   ],
   "source": [
    "stock2"
   ]
  }
 ],
 "metadata": {
  "interpreter": {
   "hash": "010ec6835e5c0eb544067665b3f5bba781c949090da27bf973471b45fd22fab2"
  },
  "kernelspec": {
   "display_name": "Python 3.9.9 64-bit ('stock-scanner': venv)",
   "language": "python",
   "name": "python3"
  },
  "language_info": {
   "codemirror_mode": {
    "name": "ipython",
    "version": 3
   },
   "file_extension": ".py",
   "mimetype": "text/x-python",
   "name": "python",
   "nbconvert_exporter": "python",
   "pygments_lexer": "ipython3",
   "version": "3.9.9"
  },
  "orig_nbformat": 4
 },
 "nbformat": 4,
 "nbformat_minor": 2
}
